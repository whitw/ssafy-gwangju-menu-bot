{
 "cells": [
  {
   "cell_type": "code",
   "execution_count": 1,
   "id": "a0dfafb9",
   "metadata": {},
   "outputs": [],
   "source": [
    "import requests\n",
    "from bs4 import BeautifulSoup\n",
    "import json\n",
    "from datetime import date\n",
    "import schedule"
   ]
  },
  {
   "cell_type": "code",
   "execution_count": 2,
   "id": "3e9ac551",
   "metadata": {},
   "outputs": [],
   "source": [
    "def updateMenu():\n",
    "    reqheaders = {'user-agent':'Mozilla/5.0 (Windows NT 10.0; Win64; x64) AppleWebKit/537.36 (KHTML, like Gecko) Chrome/109.0.0.0 Safari/537.36'}\n",
    "    todayMenu = requests.request('GET','https://front.cjfreshmeal.co.kr/meal/v1/today-all-meal?storeIdx=6442')\n",
    "    todayMenuLunch = json.loads(todayMenu.text)['data']['2']\n",
    "    menu = [0] * 5\n",
    "    for i in range(5):\n",
    "        menu[i] = {\n",
    "            'name':todayMenuLunch[i]['name'],\n",
    "            'side':todayMenuLunch[i]['side'],\n",
    "            'corner':todayMenuLunch[i]['corner'],\n",
    "            'kcal':todayMenuLunch[i]['kcal'],\n",
    "            'thumbnailurl':todayMenuLunch[i]['thumbnailUrl']\n",
    "        }\n",
    "    return menu"
   ]
  },
  {
   "cell_type": "code",
   "execution_count": 3,
   "id": "4d9cc1a0",
   "metadata": {
    "scrolled": true
   },
   "outputs": [],
   "source": [
    "def getRenderString(menu):\n",
    "    renderstring = ''\n",
    "    renderstring += '# ' + date.today().strftime(\"%Y-%m-%d\") + ' 오늘의 점심\\n'\n",
    "    for i in range(5):\n",
    "        renderstring += '## ' + str(i+1) + '. ' + menu[i]['corner'] + '\\n'\n",
    "        renderstring += '### ' + '**' + menu[i]['name'] + '**\\n'\n",
    "        renderstring += menu[i]['side'] + '\\n'\n",
    "        renderstring += str(int(menu[i]['kcal'])) + 'kcal\\n'\n",
    "        renderstring += '![' + menu[i]['name'] + '](' + menu[i]['thumbnailurl'] + ')\\n'\n",
    "        renderstring += '---\\n'\n",
    "    return renderstring"
   ]
  },
  {
   "cell_type": "code",
   "execution_count": 4,
   "id": "4880af75",
   "metadata": {},
   "outputs": [],
   "source": [
    "def post(menu, url_hook):\n",
    "    headers = {'Content-Type':'application/json'}\n",
    "    data = {'text':'bot'}\n",
    "    response = requests.post(url_hook, headers=headers, data=json.dumps({\"text\":menu}))"
   ]
  },
  {
   "cell_type": "code",
   "execution_count": 5,
   "id": "8f7104dd",
   "metadata": {},
   "outputs": [],
   "source": [
    "def dailyUpdateAndPost(url_hook):\n",
    "    post(getRenderString(updateMenu()), url_hook)"
   ]
  },
  {
   "cell_type": "code",
   "execution_count": 9,
   "id": "93aff177",
   "metadata": {},
   "outputs": [],
   "source": [
    "def dailyMenuUpdate():\n",
    "    url_hook_file = './url_hook.txt'\n",
    "    with open(url_hook_file, 'rt') as f:\n",
    "        url_hook = f.read()\n",
    "    dailyUpdateAndPost(url_hook)"
   ]
  },
  {
   "cell_type": "code",
   "execution_count": 10,
   "id": "baf4d7f6",
   "metadata": {},
   "outputs": [],
   "source": [
    "if __name__ == '__main__':\n",
    "    schedule.every().day.at(\"10:30\").do(dailyMenuUpdate)"
   ]
  },
  {
   "cell_type": "code",
   "execution_count": 11,
   "id": "7578c225",
   "metadata": {},
   "outputs": [],
   "source": [
    "dailyMenuUpdate()"
   ]
  },
  {
   "cell_type": "code",
   "execution_count": null,
   "id": "efe8115d",
   "metadata": {},
   "outputs": [],
   "source": []
  }
 ],
 "metadata": {
  "kernelspec": {
   "display_name": "Python 3 (ipykernel)",
   "language": "python",
   "name": "python3"
  },
  "language_info": {
   "codemirror_mode": {
    "name": "ipython",
    "version": 3
   },
   "file_extension": ".py",
   "mimetype": "text/x-python",
   "name": "python",
   "nbconvert_exporter": "python",
   "pygments_lexer": "ipython3",
   "version": "3.8.10"
  }
 },
 "nbformat": 4,
 "nbformat_minor": 5
}
